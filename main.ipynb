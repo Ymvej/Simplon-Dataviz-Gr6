{
 "cells": [
  {
   "cell_type": "markdown",
   "execution_count": null,
   "metadata": {},
   "outputs": [],
   "source": [
    "** 0.0 / IMPORTS & INIT**"
   ]
  },
  {
   "cell_type": "code",
   "execution_count": 2,
   "metadata": {},
   "outputs": [],
   "source": [
    "import pandas as pd\n",
    "import time\n",
    "import os"
   ]
  },
  {
   "cell_type": "markdown",
   "execution_count": null,
   "metadata": {},
   "outputs": [],
   "source": [
    "**1.1 / CSV IMPORTING**\n",
    "\n",
    "We import the 4 working databases from csv files in the subdirectory \"Base\" at the root of the current working directory through Pandas and assign them as Dataframes.                          \n",
    "We also display progress information, since the process can be quite lenghty.\n",
    "\n",
    "Caution : When all bases are imported at once, they are all loaded into RAM and they can take up to 20G. If your machine can't handle it, you should comment out what you don't need and work sequentially."
   ]
  },
  {
   "cell_type": "markdown",
   "execution_count": null,
   "metadata": {},
   "outputs": [],
   "source": [
    "We define the columns on which we are going to work for each dataframes"
   ]
  },
  {
   "cell_type": "code",
   "execution_count": 11,
   "metadata": {},
   "outputs": [],
   "source": [
    "Col_avantage = ['ligne_identifiant', 'denomination_sociale', 'categorie', 'qualite', 'benef_codepostal', 'benef_ville', 'pays', 'benef_titre_libelle', 'benef_speicalite_libelle', 'benef_etablissement_codepostal', 'ligne_type', 'avant_date_signature', 'avant_montant_ttc']\n",
    "Col_convention = ['ligne_identifiant', 'denomination_sociale', 'categorie', 'qualite', 'benef_codepostal', 'benef_ville', 'pays', 'benef_titre_libelle', 'benef_speicalite_libelle', 'benef_etablissement_codepostal', 'ligne_type', 'conv_date_signature']\n",
    "Col_remuneration = ['entreprise_identifiant', 'denomination_sociale', 'benef_categorie_code', 'qualite', 'benef_codepostal', 'pays', 'benef_titre_libelle', 'benef_speicalite_libelle', 'benef_etablissement_codepostal', 'remu_date', 'remu_montant_ttc']\n",
    "Col_entreprise = ['pays','secteur','code_postal','ville']"
   ]
  },
  {
   "cell_type": "code",
   "execution_count": 9,
   "metadata": {},
   "outputs": [
    {
     "name": "stdout",
     "output_type": "stream",
     "text": "Starting import...\n\n\nImporting D_avantage...\nD_avantage successfully imported. 3 more to go.\nImporting D_Convention...\nD_Convention successfully imported. 2 more to go.\nImporting D_Remuneration...\nD_Remuneration successfully imported. 1 more to go.\nImporting Entreprise...\nEntreprise successfully imported.\nAll csv successfully imported in 64 seconds.\n"
    }
   ],
   "source": [
    "# Imports all bases and displays progress info\n",
    "# Note : last base uses a comma as separator\n",
    "\n",
    "start = time.perf_counter() # getting starting timestamp\n",
    "print('Starting import...\\n\\n')\n",
    "print('Importing D_avantage...')\n",
    "D_avantage = pd.read_csv(\"Base/declaration_avantage_2020_02_19_04_00.csv\", sep = \";\", usecols = Col_avantage)\n",
    "print('D_avantage successfully imported. 3 more to go.')\n",
    "print('Importing D_Convention...')\n",
    "D_Convention = pd.read_csv(\"Base/declaration_convention_2020_02_19_04_00.csv\", sep = \";\", usecols = Col_convention)\n",
    "print('D_Convention successfully imported. 2 more to go.')\n",
    "print('Importing D_Remuneration...')\n",
    "D_Remuneration = pd.read_csv(\"Base/declaration_remuneration_2020_02_19_04_00.csv\", sep = \";\", usecols = Col_remuneration)\n",
    "print('D_Remuneration successfully imported. 1 more to go.')\n",
    "print('Importing Entreprise...')\n",
    "Entreprise = pd.read_csv(\"Base/entreprise_2020_02_19_04_00.csv\", sep = \",\", usecols = Col_entreprise)\n",
    "print('Entreprise successfully imported.')\n",
    "success = time.perf_counter() # getting ending timestamp\n",
    "import_time = int(success - start) \n",
    "print('All csv successfully imported in %s seconds.'%(import_time))"
   ]
  },
  {
   "cell_type": "markdown",
   "execution_count": null,
   "metadata": {},
   "outputs": [],
   "source": [
    "**1.2 / DATAFRAMES CLEANING**\n",
    "\n",
    "We remove all columns that contain duplicate info (even under a different form) or are unnecessary for the desired analysis."
   ]
  },
  {
   "cell_type": "code",
   "execution_count": null,
   "metadata": {},
   "outputs": [],
   "source": []
  }
 ],
 "metadata": {
  "file_extension": ".py",
  "kernelspec": {
   "display_name": "Python 3",
   "language": "python",
   "name": "python3"
  },
  "language_info": {
   "codemirror_mode": {
    "name": "ipython",
    "version": 3
   },
   "file_extension": ".py",
   "mimetype": "text/x-python",
   "name": "python",
   "nbconvert_exporter": "python",
   "pygments_lexer": "ipython3",
   "version": "3.7.4-final"
  },
  "mimetype": "text/x-python",
  "name": "python",
  "npconvert_exporter": "python",
  "pygments_lexer": "ipython3",
  "version": 3
 },
 "nbformat": 4,
 "nbformat_minor": 2
}
{
 "cells": [
  {
   "cell_type": "markdown",
   "execution_count": null,
   "metadata": {},
   "outputs": [],
   "source": [
    "** 0.0 / IMPORTS & INIT**"
   ]
  },
  {
   "cell_type": "code",
   "execution_count": 1,
   "metadata": {},
   "outputs": [],
   "source": [
    "import pandas as pd\n",
    "import time\n",
    "import os\n",
    "import pygal\n",
    "import progressbar"
   ]
  },
  {
   "cell_type": "markdown",
   "execution_count": null,
   "metadata": {},
   "outputs": [],
   "source": [
    "**1.1 / CSV IMPORTING**\n",
    "\n",
    "We import the 4 working databases from csv files in the subdirectory \"Base\" at the root of the current working directory through Pandas and assign them as Dataframes.                          \n",
    "We also display progress information, since the process can be quite lenghty.\n",
    "\n",
    "Caution : When all bases are imported at once, they are all loaded into RAM and they can take up to 20G. If your machine can't handle it, you should comment out what you don't need and work sequentially."
   ]
  },
  {
   "cell_type": "markdown",
   "execution_count": null,
   "metadata": {},
   "outputs": [],
   "source": [
    "We define the columns on which we are going to work for each dataframes"
   ]
  },
  {
   "cell_type": "code",
   "execution_count": 2,
   "metadata": {},
   "outputs": [],
   "source": [
    "Col_avantage = ['ligne_identifiant', 'denomination_sociale', 'categorie', 'qualite', 'benef_codepostal', 'benef_ville', 'pays', 'benef_titre_libelle', 'benef_speicalite_libelle', 'benef_etablissement_codepostal', 'ligne_type', 'avant_date_signature', 'avant_montant_ttc']\n",
    "Col_convention = ['ligne_identifiant', 'denomination_sociale', 'categorie', 'qualite', 'benef_codepostal', 'benef_ville', 'pays', 'benef_titre_libelle', 'benef_speicalite_libelle', 'benef_etablissement_codepostal', 'ligne_type', 'conv_date_signature', 'conv_montant_ttc']\n",
    "Col_remuneration = ['entreprise_identifiant', 'denomination_sociale', 'benef_categorie_code', 'qualite', 'benef_codepostal', 'pays', 'benef_titre_libelle', 'benef_speicalite_libelle', 'benef_etablissement_codepostal', 'remu_date', 'remu_montant_ttc']\n",
    "Col_entreprise = ['pays','secteur','code_postal','ville']"
   ]
  },
  {
   "cell_type": "code",
   "execution_count": 3,
   "metadata": {},
   "outputs": [
    {
     "name": "stdout",
     "output_type": "stream",
     "text": "Starting import...\n\n\nImporting D_avantage...\nD_avantage successfully imported. 3 more to go.\nImporting D_Convention...\nD_Convention successfully imported. 2 more to go.\nImporting D_Remuneration...\nD_Remuneration successfully imported. 1 more to go.\nImporting Entreprise...\nEntreprise successfully imported.\nAll csv successfully imported in 67 seconds.\n"
    }
   ],
   "source": [
    "# Imports all bases and displays progress info\n",
    "# Note : last base uses a comma as separator\n",
    "\n",
    "start = time.perf_counter() # getting starting timestamp\n",
    "print('Starting import...\\n\\n')\n",
    "print('Importing D_avantage...')\n",
    "D_avantage = pd.read_csv(\"Base/declaration_avantage_2020_02_19_04_00.csv\", sep = \";\", usecols = Col_avantage)\n",
    "print('D_avantage successfully imported. 3 more to go.')\n",
    "print('Importing D_Convention...')\n",
    "D_Convention = pd.read_csv(\"Base/declaration_convention_2020_02_19_04_00.csv\", sep = \";\", usecols = Col_convention)\n",
    "print('D_Convention successfully imported. 2 more to go.')\n",
    "print('Importing D_Remuneration...')\n",
    "D_Remuneration = pd.read_csv(\"Base/declaration_remuneration_2020_02_19_04_00.csv\", sep = \";\", usecols = Col_remuneration)\n",
    "print('D_Remuneration successfully imported. 1 more to go.')\n",
    "print('Importing Entreprise...')\n",
    "Entreprise = pd.read_csv(\"Base/entreprise_2020_02_19_04_00.csv\", sep = \",\", usecols = Col_entreprise)\n",
    "print('Entreprise successfully imported.')\n",
    "success = time.perf_counter() # getting ending timestamp\n",
    "import_time = int(success - start) \n",
    "print('All csv successfully imported in %s seconds.'%(import_time))"
   ]
  },
  {
   "cell_type": "markdown",
   "execution_count": null,
   "metadata": {},
   "outputs": [],
   "source": [
    "**1.2 / DATAFRAMES CLEANING**\n",
    "\n",
    "We aggregate all values representing less than 0.2% of the dataframe as one."
   ]
  },
  {
   "cell_type": "code",
   "execution_count": 5,
   "metadata": {},
   "outputs": [],
   "source": [
    "      "
   ]
  },
  {
   "cell_type": "markdown",
   "metadata": {},
   "source": [
    "** 2.1 / PLOTTING **\n"
   ]
  },
  {
   "cell_type": "code",
   "execution_count": 19,
   "metadata": {},
   "outputs": [
    {
     "name": "stdout",
     "output_type": "stream",
     "text": " 57 | total : 5618978\nkey : 91 | value : 21 | total : 10495474\nkey : 92 | value : 1096 | total : 253654451\nkey : 76 | value : 500 | total : 38842282\nkey : 42 | value : 450 | total : 8683828\nkey : 75 | value : 24 | total : 408442415\nkey : 42 | value : 428 | total : 8684256\nkey : 94 | value : 11 | total : 56596611\nkey : 41 | value : 120 | total : 1181929\nkey : 78 | value : 37500 | total : 13012488\nkey : 92 | value : 36800 | total : 253691251\nkey : 14 | value : 750 | total : 7238016\nkey : 75 | value : 120 | total : 408442535\nkey : 83 | value : 57 | total : 6079489\nkey : 62 | value : 1607 | total : 5620585\nkey : 92 | value : 60 | total : 253691311\nkey : 89 | value : 439 | total : 963058\nkey : 13 | value : 2480 | total : 45832974\nkey : 18 | value : 57 | total : 562239\nkey : 13 | value : 57 | total : 45833031\nkey : 97 | value : 55 | total : 4716080\nkey : 68 | value : 393 | total : 4786507\nkey : 31 | value : 444 | total : 65822083\nkey : 62 | value : 57 | total : 5620642\nkey : 69 | value : 490 | total : 237750396\nkey : 83 | value : 0 | total : 6079489\nkey : 14 | value : 535 | total : 7238551\nkey : 21 | value : 21 | total : 45363046\nkey : 20 | value : 57 | total : 1112581\nkey : 49 | value : 557 | total : 8908492\nkey : 73 | value : 57 | total : 1063015\nkey : 33 | value : 669 | total : 36559988\nkey : 93 | value : 592 | total : 10162971\nkey : 59 | value : 310 | total : 29112413\nkey : 69 | value : 1500 | total : 237751896\nkey : 54 | value : 800 | total : 10249138\nkey : 59 | value : 1500 | total : 29113913\nkey : 13 | value : 400 | total : 45833431\nkey : 67 | value : 644 | total : 42398252\nkey : 78 | value : 80 | total : 13012568\nkey : 26 | value : 1235 | total : 1435025\nkey : 57 | value : 17 | total : 2729436\nkey : 14 | value : 750 | total : 7239301\nkey : 83 | value : 18 | total : 6079507\nkey : 94 | value : 853 | total : 56597464\nkey : 97 | value : 932 | total : 4717012\nkey : 30 | value : 25 | total : 4738048\nkey : 20 | value : 57 | total : 1112638\nkey : 61 | value : 20 | total : 2163951\nkey : 17 | value : 57 | total : 2774897\nkey : 44 | value : 285 | total : 24735957\nkey : 63 | value : 557 | total : 13431875\nkey : 14 | value : 57 | total : 7239358\nkey : 67 | value : 460 | total : 42398712\nkey : 35 | value : 593 | total : 16338622\nkey : 91 | value : 200 | total : 10495674\nkey : 92 | value : 279 | total : 253691590\nkey : 34 | value : 57 | total : 25945046\nkey : 38 | value : 830 | total : 12852839\nkey : 13 | value : 10000 | total : 45843431\nkey : 80 | value : 500 | total : 5763413\nkey : 13 | value : 3000 | total : 45846431\nkey : 75 | value : 535 | total : 408443070\nkey : 25 | value : 570 | total : 8105799\nkey : 69 | value : 800 | total : 237752696\nkey : 92 | value : 62 | total : 253691652\nkey : 59 | value : 471 | total : 29114384\nkey : 78 | value : 57 | total : 13012625\nkey : 83 | value : 10 | total : 6079517\nkey : 72 | value : 24 | total : 2200026\nkey : 12 | value : 25 | total : 1117388\nkey : 91 | value : 57 | total : 10495731\nkey : 95 | value : 43 | total : 5378695\nkey : 91 | value : 57 | total : 10495788\nkey : 30 | value : 57 | total : 4738105\nkey : 45 | value : 708 | total : 3003026\nkey : 64 | value : 57 | total : 4814995\nkey : 57 | value : 0 | total : 2729436\nkey : 22 | value : 57 | total : 2248789\nkey : 75 | value : 600 | total : 408443670\nkey : 31 | value : 1000 | total : 65823083\nkey : 22 | value : 1075 | total : 2249864\nkey : 83 | value : 807 | total : 6080324\nkey : 6 | value : 665 | total : 18618742\nkey : 50 | value : 808 | total : 829851\nkey : 38 | value : 19 | total : 12852858\nkey : 93 | value : 312 | total : 10163283\nkey : 76 | value : 12 | total : 38842294\nkey : 95 | value : 200 | total : 5378895\nkey : 34 | value : 1000 | total : 25946046\nkey : 88 | value : 57 | total : 598617\nkey : 54 | value : 57 | total : 10249195\nkey : 75 | value : 25 | total : 408443695\nkey : 2 | value : 493 | total : 566513\nkey : 19 | value : 543 | total : 717318\nkey : 44 | value : 1500 | total : 24737457\nkey : 35 | value : 1000 | total : 16339622\nkey : 33 | value : 250 | total : 36560238\nkey : 51 | value : 193 | total : 5550342\nkey : 28 | value : 911 | total : 1736505\nkey : 70 | value : 0 | total : 325453\nkey : 28 | value : 57 | total : 1736562\nkey : 77 | value : 24 | total : 3095050\nkey : 30 | value : 23 | total : 4738128\nkey : 47 | value : 533 | total : 1267454\nkey : 63 | value : 19 | total : 13431894\nkey : 26 | value : 57 | total : 1435082\nkey : 91 | value : 416 | total : 10496204\nkey : 77 | value : 0 | total : 3095050\nkey : 45 | value : 331 | total : 3003357\nkey : 59 | value : 854 | total : 29115238\nkey : 45 | value : 57 | total : 3003414\nkey : 60 | value : 11 | total : 5515128\nkey : 13 | value : 25 | total : 45846456\nkey : 13 | value : 25 | total : 45846481\nkey : 83 | value : 400 | total : 6080724\nkey : 31 | value : 15000 | total : 65838083\nkey : 30 | value : 410 | total : 4738538\nkey : 6 | value : 52 | total : 18618794\nkey : 22 | value : 500 | total : 2250364\nkey : 75 | value : 227 | total : 408443922\nkey : 34 | value : 1180 | total : 25947226\nkey : 83 | value : 356 | total : 6081080\nkey : 62 | value : 23 | total : 5620665\nkey : 60 | value : 726 | total : 5515854\nkey : 51 | value : 700 | total : 5551042\nkey : 84 | value : 2000 | total : 3965047\nkey : 73 | value : 416 | total : 1063431\nkey : 75 | value : 57 | total : 408443979\nkey : 80 | value : 57 | total : 5763470\nkey : 57 | value : 951 | total : 2730387\nkey : 78 | value : 458 | total : 13013083\nkey : 69 | value : 297 | total : 237752993\nkey : 75 | value : 531 | total : 408444510\nkey : 13 | value : 1500 | total : 45847981\nkey : 54 | value : 57 | total : 10249252\nkey : 67 | value : 60 | total : 42398772\nkey : 76 | value : 592 | total : 38842886\nkey : 75 | value : 46 | total : 408444556\nkey : 21 | value : 60 | total : 45363106\nkey : 75 | value : 76 | total : 408444632\nkey : 97 | value : 50 | total : 4717062\nkey : 32 | value : 500 | total : 340161\nkey : 97 | value : 20 | total : 4717082\nkey : 45 | value : 57 | total : 3003471\nkey : 45 | value : 57 | total : 3003528\nkey : 31 | value : 0 | total : 65838083\nkey : 25 | value : 592 | total : 8106391\nkey : 94 | value : 595 | total : 56598059\nkey : 60 | value : 0 | total : 5515854\nkey : 22 | value : 57 | total : 2250421\nkey : 62 | value : 60 | total : 5620725\nkey : 64 | value : 1000 | total : 4815995\nkey : 95 | value : 490 | total : 5379385\nkey : 31 | value : 705 | total : 65838788\nkey : 87 | value : 60 | total : 5270286\nkey : 92 | value : 56 | total : 253691708\nkey : 59 | value : 817 | total : 29116055\nkey : 59 | value : 557 | total : 29116612\nkey : 62 | value : 60 | total : 5620785\nkey : 33 | value : 0 | total : 36560238\nkey : 92 | value : 1000 | total : 253692708\nkey : 33 | value : 443 | total : 36560681\nkey : 29 | value : 1300 | total : 8157032\nkey : 31 | value : 1215 | total : 65840003\nkey : 31 | value : 20 | total : 65840023\nkey : 27 | value : 0 | total : 1072675\nkey : 31 | value : 20 | total : 65840043\nkey : 94 | value : 350 | total : 56598409\nkey : 19 | value : 395 | total : 717713\nkey : 34 | value : 833 | total : 25948059\nkey : 64 | value : 557 | total : 4816552\nkey : 84 | value : 557 | total : 3965604\nkey : 54 | value : 771 | total : 10250023\nkey : 60 | value : 57 | total : 5515911\nkey : 84 | value : 57 | total : 3965661\nkey : 63 | value : 57 | total : 13431951\nkey : 38 | value : 57 | total : 12852915\nkey : 97 | value : 500 | total : 4717582\nkey : 62 | value : 356 | total : 5621141\nkey : 21 | value : 444 | total : 45363550\nkey : 44 | value : 58 | total : 24737515\nkey : 69 | value : 143 | total : 237753136\nkey : 29 | value : 592 | total : 8157624\nkey : 63 | value : 25 | total : 13431976\nkey : 34 | value : 57 | total : 25948116\nkey : 75 | value : 57 | total : 408444689\nkey : 90 | value : 57 | total : 481767\nkey : 33 | value : 57 | total : 36560738\nkey : 81 | value : 25 | total : 830845\nkey : 45 | value : 57 | total : 3003585\nkey : 54 | value : 23 | total : 10250046\nkey : 13 | value : 500 | total : 45848481\nkey : 93 | value : 600 | total : 10163883\nkey : 64 | value : 13005 | total : 4829557\nkey : 89 | value : 277 | total : 963335\nkey : 7 | value : 0 | total : 304306\nkey : 79 | value : 1121 | total : 604630\nkey : 92 | value : 57 | total : 253692765\nkey : 54 | value : 0 | total : 10250046\nkey : 97 | value : 55 | total : 4717637\nkey : 97 | value : 40 | total : 4717677\nkey : 87 | value : 456 | total : 5270742\nkey : 69 | value : 0 | total : 237753136\nkey : 78 | value : 260 | total : 13013343\nkey : 92 | value : 395 | total : 253693160\nkey : 12 | value : 380 | total : 1117768\nkey : 75 | value : 588 | total : 408445277\nkey : 80 | value : 151 | total : 5763621\nkey : 63 | value : 1500 | total : 13433476\nkey : 25 | value : 1200 | total : 8107591\nkey : 78 | value : 1500 | total : 13014843\nkey : 97 | value : 31 | total : 4717708\nkey : 13 | value : 0 | total : 45848481\nkey : 34 | value : 1500 | total : 25949616\nkey : 59 | value : 400 | total : 29117012\nkey : 63 | value : 779 | total : 13434255\nkey : 45 | value : 840 | total : 3004425\nkey : 94 | value : 400 | total : 56598809\nkey : 77 | value : 1002 | total : 3096052\nkey : 76 | value : 409 | total : 38843295\nkey : 12 | value : 492 | total : 1118260\nkey : 80 | value : 1500 | total : 5765121\nkey : 18 | value : 1200 | total : 563439\nkey : 67 | value : 1500 | total : 42400272\nkey : 13 | value : 328 | total : 45848809\nkey : 13 | value : 566 | total : 45849375\nkey : 73 | value : 57 | total : 1063488\nkey : 59 | value : 57 | total : 29117069\nkey : 30 | value : 324 | total : 4738862\nkey : 67 | value : 527 | total : 42400799\nkey : 14 | value : 1250 | total : 7240608\nkey : 68 | value : 277 | total : 4786784\nkey : 67 | value : 42 | total : 42400841\nkey : 35 | value : 1000 | total : 16340622\nkey : 38 | value : 510 | total : 12853425\nkey : 75 | value : 1000 | total : 408446277\nkey : 26 | value : 44 | total : 1435126\nkey : 16 | value : 801 | total : 761762\nkey : 94 | value : 114 | total : 56598923\nkey : 73 | value : 57 | total : 1063545\nkey : 75 | value : 57 | total : 408446334\nkey : 60 | value : 60 | total : 5515971\nkey : 97 | value : 3023 | total : 4720731\nkey : 21 | value : 1520 | total : 45365070\nkey : 59 | value : 296 | total : 29117365\nkey : 88 | value : 879 | total : 599496\nkey : 75 | value : 15 | total : 408446349\nkey : 38 | value : 1241 | total : 12854666\nkey : 80 | value : 57 | total : 5765178\nkey : 94 | value : 489 | total : 56599412\nkey : 11 | value : 0 | total : 893126\nkey : 11 | value : 32 | total : 893158\nkey : 62 | value : 600 | total : 5621741\nkey : 66 | value : 952 | total : 2472342\nkey : 44 | value : 57 | total : 24737572\nkey : 83 | value : 532 | total : 6081612\nkey : 92 | value : 12488 | total : 253705648\nkey : 69 | value : 221 | total : 237753357\nkey : 14 | value : 467 | total : 7241075\nkey : 62 | value : 673 | total : 5622414\nkey : 14 | value : 0 | total : 7241075\nkey : 33 | value : 573 | total : 36561311\nkey : 75 | value : 11 | total : 408446360\nkey : 14 | value : 22 | total : 7241097\nkey : 28 | value : 57 | total : 1736619\nkey : 66 | value : 18 | total : 2472360\nkey : 78 | value : 104 | total : 13014947\nkey : 44 | value : 361 | total : 24737933\nkey : 77 | value : 57 | total : 3096109\nkey : 60 | value : 52 | total : 5516023\nkey : 95 | value : 40 | total : 5379425\nkey : 31 | value : 57 | total : 65840100\nkey : 69 | value : 57 | total : 237753414\nkey : 75 | value : 57 | total : 408446417\nkey : 68 | value : 400 | total : 4787184\nkey : 67 | value : 3250 | total : 42404091\nkey : 78 | value : 9100 | total : 13024047\nkey : 21 | value : 57 | total : 45365127\nkey : 42 | value : 922 | total : 8685178\nkey : 75 | value : 330 | total : 408446747\nkey : 17 | value : 275 | total : 2775172\nkey : 95 | value : 60 | total : 5379485\nkey : 91 | value : 184 | total : 10496388\nkey : 92 | value : 56 | total : 253705704\nkey : 69 | value : 999 | total : 237754413\nkey : 16 | value : 507 | total : 762269\nkey : 33 | value : 60 | total : 36561371\nkey : 33 | value : 60 | total : 36561431\nkey : 87 | value : 60 | total : 5270802\nkey : 87 | value : 60 | total : 5270862\nkey : 23 | value : 60 | total : 361482\nkey : 13 | value : 46 | total : 45849421\nkey : 69 | value : 600 | total : 237755013\nkey : 56 | value : 520 | total : 2469219\nkey : 35 | value : 47 | total : 16340669\nkey : 62 | value : 800 | total : 5623214\nkey : 29 | value : 47 | total : 8157671\nkey : 26 | value : 296 | total : 1435422\nkey : 86 | value : 600 | total : 8599119\nkey : 94 | value : 1200 | total : 56600612\nkey : 33 | value : 1010 | total : 36562441\nkey : 75 | value : 888 | total : 408447635\nkey : 56 | value : 800 | total : 2470019\nkey : 56 | value : 800 | total : 2470819\nkey : 59 | value : 600 | total : 29117965\nkey : 94 | value : 600 | total : 56601212\nkey : 75 | value : 740 | total : 408448375\nkey : 22 | value : 444 | total : 2250865\nkey : 54 | value : 600 | total : 10250646\nkey : 87 | value : 3500 | total : 5274362\nkey : 44 | value : 296 | total : 24738229\nkey : 69 | value : 400 | total : 237755413\nkey : 58 | value : 511 | total : 323587\nkey : 22 | value : 520 | total : 2251385\nkey : 75 | value : 3200 | total : 408451575\nkey : 75 | value : 800 | total : 408452375\nkey : 92 | value : 400 | total : 253706104\nkey : 44 | value : 671 | total : 24738900\nkey : 76 | value : 516 | total : 38843811\nkey : 33 | value : 785 | total : 36563226\nkey : 31 | value : 1004 | total : 65841104\nkey : 75 | value : 592 | total : 408452967\nkey : 66 | value : 510 | total : 2472870\nkey : 75 | value : 592 | total : 408453559\nkey : 33 | value : 800 | total : 36564026\nkey : 75 | value : 200 | total : 408453759\nkey : 69 | value : 600 | total : 237756013\nkey : 87 | value : 690 | total : 5275052\nkey : 92 | value : 108 | total : 253706212\nkey : 92 | value : 108 | total : 253706320\nkey : 75 | value : 356 | total : 408454115\nkey : 13 | value : 442 | total : 45849863\nkey : 76 | value : 57 | total : 38843868\nkey : 31 | value : 57 | total : 65841161\nkey : 44 | value : 380 | total : 24739280\nkey : 94 | value : 395 | total : 56601607\nkey : 93 | value : 400 | total : 10164283\nkey : 44 | value : 380 | total : 24739660\nkey : 44 | value : 520 | total : 24740180\nkey : 69 | value : 573 | total : 237756586\nkey : 69 | value : 235 | total : 237756821\nkey : 37 | value : 949 | total : 50000578\nkey : 93 | value : 395 | total : 10164678\nkey : 68 | value : 865 | total : 4788049\nkey : 97 | value : 737 | total : 4721468\nkey : 97 | value : 737 | total : 4722205\nkey : 80 | value : 1026 | total : 5766204\nkey : 63 | value : 755 | total : 13435010\nkey : 29 | value : 601 | total : 8158272\nkey : 93 | value : 160 | total : 10164838\nkey : 14 | value : 846 | total : 7241943\nkey : 67 | value : 683 | total : 42404774\nkey : 95 | value : 60 | total : 5379545\nkey : 6 | value : 167 | total : 18618961\nkey : 69 | value : 119 | total : 237756940\nkey : 33 | value : 1116 | total : 36565142\nkey : 45 | value : 57 | total : 3004482\nkey : 38 | value : 25 | total : 12854691\nkey : 13 | value : 18 | total : 45849881\nkey : 97 | value : 1687 | total : 4723892\nkey : 79 | value : 293 | total : 604923\nkey : 13 | value : 680 | total : 45850561\nkey : 75 | value : 673 | total : 408454788\nkey : 13 | value : 18 | total : 45850579\nkey : 75 | value : 62 | total : 408454850\nkey : 34 | value : 1104 | total : 25950720\nkey : 83 | value : 361 | total : 6081973\nkey : 67 | value : 800 | total : 42405574\nkey : 31 | value : 1600 | total : 65842761\nkey : 1 | value : 307 | total : 507807\nkey : 51 | value : 373 | total : 5551415\nkey : 34 | value : 600 | total : 25951320\nkey : 88 | value : 534 | total : 600030\nkey : 75 | value : 60 | total : 408454910\nkey : 87 | value : 1050 | total : 5276102\nkey : 59 | value : 1076 | total : 29119041\nkey : 54 | value : 122 | total : 10250768\nkey : 78 | value : 691 | total : 13024738\nkey : 13 | value : 55 | total : 45850634\nkey : 33 | value : 913115 | total : 37478257\nkey : 6 | value : 1500 | total : 18620461\nkey : 75 | value : 1000 | total : 408455910\nkey : 97 | value : 50 | total : 4723942\nkey : 81 | value : 376 | total : 831221\nkey : 82 | value : 171 | total : 759894\nkey : 14 | value : 45 | total : 7241988\nkey : 77 | value : 592 | total : 3096701\nkey : 86 | value : 282 | total : 8599401\nkey : 68 | value : 138 | total : 4788187\nkey : 1 | value : 334 | total : 508141\nkey : 94 | value : 24 | total : 56601631\nkey : 75 | value : 49 | total : 408455959\nkey : 84 | value : 406 | total : 3966067\nkey : 33 | value : 57 | total : 37478314\nkey : 69 | value : 500 | total : 237757440\nkey : 0 | value : 500 | total : 65499\nkey : 67 | value : 1203 | total : 42406777\nkey : 2 | value : 3000 | total : 569513\nkey : 49 | value : 250 | total : 8908742\nkey : 60 | value : 1011 | total : 5517034\nkey : 37 | value : 12 | total : 50000590\nkey : 86 | value : 15000 | total : 8614401\nkey : 44 | value : 1616 | total : 24741796\nkey : 10 | value : 57 | total : 987235\nkey : 64 | value : 57 | total : 4829614\nkey : 44 | value : 378 | total : 24742174\nkey : 54 | value : 1261 | total : 10252029\nkey : 94 | value : 10 | total : 56601641\nkey : 97 | value : 42 | total : 4723984\nkey : 13 | value : 57 | total : 45850691\nkey : 49 | value : 1059 | total : 8909801\nkey : 83 | value : 1200 | total : 6083173\nkey : 54 | value : 429 | total : 10252458\nkey : 77 | value : 125 | total : 3096826\nkey : 75 | value : 43 | total : 408456002\nkey : 88 | value : 50 | total : 600080\nkey : 69 | value : 535 | total : 237757975\nkey : 35 | value : 215 | total : 16340884\nkey : 69 | value : 342 | total : 237758317\nkey : 14 | value : 1174 | total : 7243162\nkey : 75 | value : 60 | total : 408456062\nkey : 69 | value : 47 | total : 237758364\nkey : 57 | value : 1127 | total : 2731514\nkey : 44 | value : 1124 | total : 24743298\nkey : 75 | value : 54 | total : 408456116\nkey : 76 | value : 1290 | total : 38845158\nkey : 31 | value : 592 | total : 65843353\nkey : 97 | value : 4474 | total : 4728458\nkey : 19 | value : 715 | total : 718428\nkey : 65 | value : 282 | total : 844697\nkey : 63 | value : 495 | total : 13435505\nkey : 13 | value : 876 | total : 45851567\nkey : 13 | value : 733 | total : 45852300\nkey : 31 | value : 1250 | total : 65844603\nkey : 69 | value : 719 | total : 237759083\nkey : 46 | value : 902 | total : 304873\nkey : 82 | value : 941 | total : 760835\nkey : 93 | value : 600 | total : 10165438\nkey : 13 | value : 120 | total : 45852420\nkey : 33 | value : 10800 | total : 37489114\nkey : 67 | value : 54 | total : 42406831\nkey : 80 | value : 745 | total : 5766949\nkey : 34 | value : 400 | total : 25951720\nkey : 34 | value : 444 | total : 25952164\nkey : 69 | value : 1000 | total : 237760083\nkey : 67 | value : 520 | total : 42407351\nkey : 59 | value : 561 | total : 29119602\nkey : 69 | value : 502 | total : 237760585\nkey : 67 | value : 492 | total : 42407843\nkey : 59 | value : 2400 | total : 29122002\nkey : 31 | value : 320 | total : 65844923\nkey : 13 | value : 1200 | total : 45853620\nkey : 92 | value : 444 | total : 253706764\nkey : 94 | value : 412 | total : 56602053\nkey : 21 | value : 841 | total : 45365968\nkey : 29 | value : 1300 | total : 8159572\nkey : 33 | value : 13588 | total : 37502702\nkey : 69 | value : 500 | total : 237761085\nkey : 67 | value : 57 | total : 42407900\nkey : 74 | value : 57 | total : 3069763\nkey : 58 | value : 704 | total : 324291\nkey : 24 | value : 685 | total : 851813\nkey : 75 | value : 312 | total : 408456428\nkey : 34 | value : 850 | total : 25953014\nkey : 69 | value : 600 | total : 237761685\nkey : 75 | value : 15412 | total : 408471840\n100 % processed.\nkey : 91 | value : 797 | total : 10497185\nkey : 22 | value : 641 | total : 2252026\nkey : 61 | value : 491 | total : 2164442\nkey : 44 | value : 1332 | total : 24744630\nkey : 72 | value : 3229 | total : 2203255\nkey : 75 | value : 3850 | total : 408475690\nkey : 75 | value : 550 | total : 408476240\nkey : 31 | value : 1000 | total : 65845923\nkey : 63 | value : 884 | total : 13436389\nkey : 83 | value : 460 | total : 6083633\nkey : 67 | value : 395 | total : 42408295\nkey : 62 | value : 57 | total : 5623271\nkey : 64 | value : 1020 | total : 4830634\nkey : 83 | value : 684 | total : 6084317\nFailed 819512 times | Succeeded 4235846 times in 289 seconds\n"
    }
   ],
   "source": [
    "def comparator3000():\n",
    "    '''\n",
    "\n",
    "    '''\n",
    "    print('Started.')\n",
    "    dic = dict()\n",
    "    start = time.perf_counter()\n",
    "    q = list(D_Convention.index)\n",
    "    fc = 0\n",
    "    sc = 0\n",
    "    pc = 0\n",
    "    for i in q:\n",
    "        if i % 50553 == 0:\n",
    "            aa = int(i / 5055300 * 100) \n",
    "            aa = str(aa)\n",
    "            print('%s %% processed.'%(aa))\n",
    "            \n",
    "        cp = D_Convention['benef_codepostal'][i]\n",
    "        ttc = D_Convention['conv_montant_ttc'][i]\n",
    "\n",
    "        cp = str(cp)\n",
    "        cp = cp[:2]\n",
    "    \n",
    "        try:\n",
    "            cp = int(cp)\n",
    "            ttc = int(ttc)\n",
    "            sc += 1\n",
    "        except ValueError:\n",
    "            fc += 1\n",
    "            continue\n",
    "\n",
    "        if cp in dic:\n",
    "            dic[cp] += ttc\n",
    "            print('key : %s | value : %s | total : %s'%(cp, ttc, dic[cp]))\n",
    "\n",
    "        else:\n",
    "            dic[cp] = ttc\n",
    "            print('key : %s | value : %s'%(cp, ttc))\n",
    "\n",
    "    success = time.perf_counter()\n",
    "    ns = int(success - start) \n",
    "\n",
    "    \n",
    "\n",
    "\n",
    "\n",
    "    print('Failed %s times | Succeeded %s times in %s seconds'%(sc, fc, ns))        \n",
    "\n",
    "\n",
    "\n",
    "comparator3000()\n",
    "\n"
   ]
  },
  {
   "cell_type": "code",
   "execution_count": null,
   "metadata": {},
   "outputs": [],
   "source": []
  }
 ],
 "metadata": {
  "file_extension": ".py",
  "kernelspec": {
   "display_name": "Python 3",
   "language": "python",
   "name": "python3"
  },
  "language_info": {
   "codemirror_mode": {
    "name": "ipython",
    "version": 3
   },
   "file_extension": ".py",
   "mimetype": "text/x-python",
   "name": "python",
   "nbconvert_exporter": "python",
   "pygments_lexer": "ipython3",
   "version": "3.7.4-final"
  },
  "mimetype": "text/x-python",
  "name": "python",
  "npconvert_exporter": "python",
  "pygments_lexer": "ipython3",
  "version": 3
 },
 "nbformat": 4,
 "nbformat_minor": 2
}
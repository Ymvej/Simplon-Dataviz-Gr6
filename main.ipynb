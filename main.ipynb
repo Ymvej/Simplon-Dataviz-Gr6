{
 "cells": [
  {
   "cell_type": "markdown",
   "metadata": {},
   "source": [
    "** 0.0 / IMPORTS & INIT**"
   ]
  },
  {
   "cell_type": "code",
   "execution_count": 1,
   "metadata": {},
   "outputs": [],
   "source": [
    "import pandas as pd\n",
    "import time\n",
    "import os"
   ]
  },
  {
   "cell_type": "markdown",
   "metadata": {},
   "source": [
    "**1.1 / CSV IMPORTING**\n",
    "\n",
    "We import the 4 working databases from csv files in the subdirectory \"Base\" at the root of the current working directory through Pandas and assign them as Dataframes.                          \n",
    "We also display progress information, since the process can be quite lenghty.\n",
    "\n",
    "Caution : When all bases are imported at once, they are all loaded into RAM and they can take up to 20G. If your machine can't handle it, you should comment out what you don't need and work sequentially."
   ]
  },
  {
   "cell_type": "code",
   "execution_count": 2,
   "metadata": {},
   "outputs": [
    {
     "name": "stdout",
     "output_type": "stream",
     "text": "Starting import...\n\n\nImporting D_avantage...\nD_avantage successfully imported. 3 more to go.\nImporting D_Convention...\nD_Convention successfully imported. 2 more to go.\nImporting D_Remuneration...\nD_Remuneration successfully imported. 1 more to go.\nImporting Entreprise...\nEntreprise successfully imported.\nAll csv successfully imported in 163 seconds.\n"
    }
   ],
   "source": [
    "# Imports all bases and displays progress info\n",
    "# Note : last base uses a comma as separator\n",
    "\n",
    "start = time.perf_counter() # getting starting timestamp\n",
    "print('Starting import...\\n\\n')\n",
    "print('Importing D_avantage...')\n",
    "D_avantage = pd.read_csv(\"Base/declaration_avantage_2020_02_19_04_00.csv\", sep = \";\")\n",
    "print('D_avantage successfully imported. 3 more to go.')\n",
    "print('Importing D_Convention...')\n",
    "D_Convention = pd.read_csv(\"Base/declaration_convention_2020_02_19_04_00.csv\", sep = \";\")\n",
    "print('D_Convention successfully imported. 2 more to go.')\n",
    "print('Importing D_Remuneration...')\n",
    "D_Remuneration = pd.read_csv(\"Base/declaration_remuneration_2020_02_19_04_00.csv\", sep = \";\")\n",
    "print('D_Remuneration successfully imported. 1 more to go.')\n",
    "print('Importing Entreprise...')\n",
    "Entreprise = pd.read_csv(\"Base/entreprise_2020_02_19_04_00.csv\",sep = \",\")\n",
    "print('Entreprise successfully imported.')\n",
    "success = time.perf_counter() # getting ending timestamp\n",
    "import_time = int(success - start) \n",
    "print('All csv successfully imported in %s seconds.'%(import_time))"
   ]
  },
  {
   "cell_type": "markdown",
   "metadata": {},
   "source": [
    "**1.2 / DATAFRAMES CLEANING**\n",
    "\n",
    "We remove all columns that contain duplicate info (even under a different form) or are unnecessary for the desired analysis."
   ]
  },
  {
   "cell_type": "code",
   "execution_count": 50,
   "metadata": {},
   "outputs": [
    {
     "name": "stdout",
     "output_type": "stream",
     "text": "Empty DataFrame\nColumns: [identifiant, denomination_sociale]\nIndex: []\n"
    }
   ],
   "source": [
    "columns_ = ['identifiant', 'denomination_sociale']\n",
    "ids_entreprise = pd.DataFrame(columns= columns_)\n",
    "\n",
    "for i in Entreprise['identifiant']:\n",
    "    if i not in ids_entreprise['identifiant']:\n",
    "        chaise = Entreprise.loc[Entreprise['identifiant'] == i].index[0]\n",
    "        armoire = []\n",
    "        buffet = []\n",
    "        armoire.append(Entreprise.iloc[chaise]['identifiant'])\n",
    "        armoire.append(Entreprise.iloc[chaise]['denomination_sociale'])\n",
    "        buffet.append(armoire)\n",
    "        \n",
    "\n",
    "\n",
    "\n",
    "        ids_entreprise.append(pd.DataFrame(buffet, columns=['identifiant', 'denomination_sociale']))\n",
    "\n",
    "         #print(ids_entreprise)\n",
    "\n",
    "print(ids_entreprise)\n",
    "\n",
    "\n",
    "\n",
    "\n",
    "\n",
    "\n",
    "\n",
    "\n",
    "\n",
    "\n",
    "\n",
    "        \n",
    "\n",
    "\n",
    "\n",
    "       # ids_entreprise['denomination_sociale'].appen\n",
    "\n",
    "\n",
    "\n",
    "\n",
    "\n",
    "\n",
    "\n",
    "\n",
    "\n",
    "\n",
    "\n",
    "\n"
   ]
  },
  {
   "cell_type": "code",
   "execution_count": null,
   "metadata": {},
   "outputs": [],
   "source": []
  }
 ],
 "metadata": {
  "file_extension": ".py",
  "kernelspec": {
   "display_name": "Python 3",
   "language": "python",
   "name": "python3"
  },
  "language_info": {
   "codemirror_mode": {
    "name": "ipython",
    "version": 3
   },
   "file_extension": ".py",
   "mimetype": "text/x-python",
   "name": "python",
   "nbconvert_exporter": "python",
   "pygments_lexer": "ipython3",
   "version": "3.7.4-final"
  },
  "mimetype": "text/x-python",
  "name": "python",
  "npconvert_exporter": "python",
  "pygments_lexer": "ipython3",
  "version": 3
 },
 "nbformat": 4,
 "nbformat_minor": 2
}